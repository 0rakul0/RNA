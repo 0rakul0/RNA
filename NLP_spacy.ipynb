{
 "cells": [
  {
   "cell_type": "code",
   "execution_count": 1,
   "outputs": [
    {
     "name": "stdout",
     "output_type": "stream",
     "text": [
      "Collecting spacy==2.2.3\n",
      "  Downloading spacy-2.2.3-cp37-cp37m-win_amd64.whl (9.7 MB)\n",
      "Collecting thinc<7.4.0,>=7.3.0\n",
      "  Downloading thinc-7.3.1-cp37-cp37m-win_amd64.whl (2.0 MB)\n",
      "Collecting cymem<2.1.0,>=2.0.2\n",
      "  Downloading cymem-2.0.7-cp37-cp37m-win_amd64.whl (30 kB)\n",
      "Collecting murmurhash<1.1.0,>=0.28.0\n",
      "  Downloading murmurhash-1.0.9-cp37-cp37m-win_amd64.whl (18 kB)\n",
      "Collecting srsly<1.1.0,>=0.1.0\n",
      "  Downloading srsly-1.0.6-cp37-cp37m-win_amd64.whl (197 kB)\n",
      "Requirement already satisfied: setuptools in e:\\github\\rna\\venv\\lib\\site-packages (from spacy==2.2.3) (60.2.0)\n",
      "Collecting catalogue<1.1.0,>=0.0.7\n",
      "  Downloading catalogue-1.0.2-py2.py3-none-any.whl (16 kB)\n",
      "Requirement already satisfied: numpy>=1.15.0 in e:\\github\\rna\\venv\\lib\\site-packages (from spacy==2.2.3) (1.21.6)\n",
      "Collecting blis<0.5.0,>=0.4.0\n",
      "  Downloading blis-0.4.1-cp37-cp37m-win_amd64.whl (5.0 MB)\n",
      "Collecting requests<3.0.0,>=2.13.0\n",
      "  Using cached requests-2.28.1-py3-none-any.whl (62 kB)\n",
      "Collecting preshed<3.1.0,>=3.0.2\n",
      "  Downloading preshed-3.0.8-cp37-cp37m-win_amd64.whl (95 kB)\n",
      "Collecting wasabi<1.1.0,>=0.4.0\n",
      "  Using cached wasabi-0.10.1-py3-none-any.whl (26 kB)\n",
      "Collecting plac<1.2.0,>=0.9.6\n",
      "  Downloading plac-1.1.3-py2.py3-none-any.whl (20 kB)\n",
      "Requirement already satisfied: typing-extensions>=3.6.4 in e:\\github\\rna\\venv\\lib\\site-packages (from catalogue<1.1.0,>=0.0.7->spacy==2.2.3) (4.4.0)\n",
      "Requirement already satisfied: zipp>=0.5 in e:\\github\\rna\\venv\\lib\\site-packages (from catalogue<1.1.0,>=0.0.7->spacy==2.2.3) (3.10.0)\n",
      "Requirement already satisfied: idna<4,>=2.5 in e:\\github\\rna\\venv\\lib\\site-packages (from requests<3.0.0,>=2.13.0->spacy==2.2.3) (3.4)\n",
      "Collecting certifi>=2017.4.17\n",
      "  Using cached certifi-2022.9.24-py3-none-any.whl (161 kB)\n",
      "Collecting charset-normalizer<3,>=2\n",
      "  Using cached charset_normalizer-2.1.1-py3-none-any.whl (39 kB)\n",
      "Collecting urllib3<1.27,>=1.21.1\n",
      "  Downloading urllib3-1.26.13-py2.py3-none-any.whl (140 kB)\n",
      "Collecting tqdm<5.0.0,>=4.10.0\n",
      "  Using cached tqdm-4.64.1-py2.py3-none-any.whl (78 kB)\n",
      "Requirement already satisfied: colorama in e:\\github\\rna\\venv\\lib\\site-packages (from tqdm<5.0.0,>=4.10.0->thinc<7.4.0,>=7.3.0->spacy==2.2.3) (0.4.6)\n",
      "Installing collected packages: murmurhash, cymem, wasabi, urllib3, tqdm, srsly, preshed, plac, charset-normalizer, certifi, blis, thinc, requests, catalogue, spacy\n",
      "Successfully installed blis-0.4.1 catalogue-1.0.2 certifi-2022.9.24 charset-normalizer-2.1.1 cymem-2.0.7 murmurhash-1.0.9 plac-1.1.3 preshed-3.0.8 requests-2.28.1 spacy-2.2.3 srsly-1.0.6 thinc-7.3.1 tqdm-4.64.1 urllib3-1.26.13 wasabi-0.10.1\n"
     ]
    },
    {
     "name": "stderr",
     "output_type": "stream",
     "text": [
      "WARNING: You are using pip version 21.3.1; however, version 22.3.1 is available.\n",
      "You should consider upgrading via the 'E:\\GITHUB\\RNA\\venv\\Scripts\\python.exe -m pip install --upgrade pip' command.\n"
     ]
    }
   ],
   "source": [
    "!pip install spacy==2.2.3"
   ],
   "metadata": {
    "collapsed": false
   }
  },
  {
   "cell_type": "code",
   "execution_count": 14,
   "outputs": [
    {
     "name": "stdout",
     "output_type": "stream",
     "text": [
      "Collecting pt_core_news_sm==2.2.5\n",
      "  Downloading https://github.com/explosion/spacy-models/releases/download/pt_core_news_sm-2.2.5/pt_core_news_sm-2.2.5.tar.gz (21.2 MB)\n",
      "  Preparing metadata (setup.py): started\n",
      "  Preparing metadata (setup.py): finished with status 'done'\n",
      "Requirement already satisfied: spacy>=2.2.2 in e:\\github\\rna\\venv\\lib\\site-packages (from pt_core_news_sm==2.2.5) (2.2.3)\n",
      "Requirement already satisfied: catalogue<1.1.0,>=0.0.7 in e:\\github\\rna\\venv\\lib\\site-packages (from spacy>=2.2.2->pt_core_news_sm==2.2.5) (1.0.2)\n",
      "Requirement already satisfied: murmurhash<1.1.0,>=0.28.0 in e:\\github\\rna\\venv\\lib\\site-packages (from spacy>=2.2.2->pt_core_news_sm==2.2.5) (1.0.9)\n",
      "Requirement already satisfied: blis<0.5.0,>=0.4.0 in e:\\github\\rna\\venv\\lib\\site-packages (from spacy>=2.2.2->pt_core_news_sm==2.2.5) (0.4.1)\n",
      "Requirement already satisfied: thinc<7.4.0,>=7.3.0 in e:\\github\\rna\\venv\\lib\\site-packages (from spacy>=2.2.2->pt_core_news_sm==2.2.5) (7.3.1)\n",
      "Requirement already satisfied: plac<1.2.0,>=0.9.6 in e:\\github\\rna\\venv\\lib\\site-packages (from spacy>=2.2.2->pt_core_news_sm==2.2.5) (1.1.3)\n",
      "Requirement already satisfied: requests<3.0.0,>=2.13.0 in e:\\github\\rna\\venv\\lib\\site-packages (from spacy>=2.2.2->pt_core_news_sm==2.2.5) (2.28.1)\n",
      "Requirement already satisfied: wasabi<1.1.0,>=0.4.0 in e:\\github\\rna\\venv\\lib\\site-packages (from spacy>=2.2.2->pt_core_news_sm==2.2.5) (0.10.1)\n",
      "Requirement already satisfied: numpy>=1.15.0 in e:\\github\\rna\\venv\\lib\\site-packages (from spacy>=2.2.2->pt_core_news_sm==2.2.5) (1.21.6)\n",
      "Requirement already satisfied: preshed<3.1.0,>=3.0.2 in e:\\github\\rna\\venv\\lib\\site-packages (from spacy>=2.2.2->pt_core_news_sm==2.2.5) (3.0.8)\n",
      "Requirement already satisfied: cymem<2.1.0,>=2.0.2 in e:\\github\\rna\\venv\\lib\\site-packages (from spacy>=2.2.2->pt_core_news_sm==2.2.5) (2.0.7)\n",
      "Requirement already satisfied: setuptools in e:\\github\\rna\\venv\\lib\\site-packages (from spacy>=2.2.2->pt_core_news_sm==2.2.5) (60.2.0)\n",
      "Requirement already satisfied: srsly<1.1.0,>=0.1.0 in e:\\github\\rna\\venv\\lib\\site-packages (from spacy>=2.2.2->pt_core_news_sm==2.2.5) (1.0.6)\n",
      "Requirement already satisfied: typing-extensions>=3.6.4 in e:\\github\\rna\\venv\\lib\\site-packages (from catalogue<1.1.0,>=0.0.7->spacy>=2.2.2->pt_core_news_sm==2.2.5) (4.4.0)\n",
      "Requirement already satisfied: zipp>=0.5 in e:\\github\\rna\\venv\\lib\\site-packages (from catalogue<1.1.0,>=0.0.7->spacy>=2.2.2->pt_core_news_sm==2.2.5) (3.10.0)\n",
      "Requirement already satisfied: idna<4,>=2.5 in e:\\github\\rna\\venv\\lib\\site-packages (from requests<3.0.0,>=2.13.0->spacy>=2.2.2->pt_core_news_sm==2.2.5) (3.4)\n",
      "Requirement already satisfied: certifi>=2017.4.17 in e:\\github\\rna\\venv\\lib\\site-packages (from requests<3.0.0,>=2.13.0->spacy>=2.2.2->pt_core_news_sm==2.2.5) (2022.9.24)\n",
      "Requirement already satisfied: charset-normalizer<3,>=2 in e:\\github\\rna\\venv\\lib\\site-packages (from requests<3.0.0,>=2.13.0->spacy>=2.2.2->pt_core_news_sm==2.2.5) (2.1.1)\n",
      "Requirement already satisfied: urllib3<1.27,>=1.21.1 in e:\\github\\rna\\venv\\lib\\site-packages (from requests<3.0.0,>=2.13.0->spacy>=2.2.2->pt_core_news_sm==2.2.5) (1.26.13)\n",
      "Requirement already satisfied: tqdm<5.0.0,>=4.10.0 in e:\\github\\rna\\venv\\lib\\site-packages (from thinc<7.4.0,>=7.3.0->spacy>=2.2.2->pt_core_news_sm==2.2.5) (4.64.1)\n",
      "Requirement already satisfied: colorama in e:\\github\\rna\\venv\\lib\\site-packages (from tqdm<5.0.0,>=4.10.0->thinc<7.4.0,>=7.3.0->spacy>=2.2.2->pt_core_news_sm==2.2.5) (0.4.6)\n",
      "[+] Download and installation successful\n",
      "You can now load the model via spacy.load('pt_core_news_sm')\n"
     ]
    },
    {
     "name": "stderr",
     "output_type": "stream",
     "text": [
      "WARNING: You are using pip version 21.3.1; however, version 22.3.1 is available.\n",
      "You should consider upgrading via the 'E:\\GITHUB\\RNA\\venv\\Scripts\\python.exe -m pip install --upgrade pip' command.\n"
     ]
    }
   ],
   "source": [
    "!python -m spacy download pt_core_news_sm"
   ],
   "metadata": {
    "collapsed": false
   }
  },
  {
   "cell_type": "code",
   "execution_count": 4,
   "outputs": [],
   "source": [
    "import pandas as pd\n",
    "import string\n",
    "import spacy\n",
    "import random\n",
    "import numpy as np"
   ],
   "metadata": {
    "collapsed": false
   }
  },
  {
   "cell_type": "code",
   "execution_count": 6,
   "outputs": [],
   "source": [
    "base_dados = pd.read_csv('./data/base_treinamento.txt', encoding = 'utf-8')"
   ],
   "metadata": {
    "collapsed": false
   }
  },
  {
   "cell_type": "code",
   "execution_count": 7,
   "outputs": [
    {
     "data": {
      "text/plain": "                                                 texto   emocao\n0                            este trabalho é agradável  alegria\n1                      gosto de ficar no seu aconchego  alegria\n2                           fiz a adesão ao curso hoje  alegria\n3                           eu sou admirada por muitos  alegria\n4                                      adoro como você  alegria\n..                                                 ...      ...\n191  estou chocado e amedrontado com este assassina...     medo\n192  é preciso afugenta com ímpeto este medo do inf...     medo\n193  políticos usam suas forças para afugentar e am...     medo\n194       o objetivo disso e apenas me amedrontar mais     medo\n195                                    isso me apavora     medo\n\n[196 rows x 2 columns]",
      "text/html": "<div>\n<style scoped>\n    .dataframe tbody tr th:only-of-type {\n        vertical-align: middle;\n    }\n\n    .dataframe tbody tr th {\n        vertical-align: top;\n    }\n\n    .dataframe thead th {\n        text-align: right;\n    }\n</style>\n<table border=\"1\" class=\"dataframe\">\n  <thead>\n    <tr style=\"text-align: right;\">\n      <th></th>\n      <th>texto</th>\n      <th>emocao</th>\n    </tr>\n  </thead>\n  <tbody>\n    <tr>\n      <th>0</th>\n      <td>este trabalho é agradável</td>\n      <td>alegria</td>\n    </tr>\n    <tr>\n      <th>1</th>\n      <td>gosto de ficar no seu aconchego</td>\n      <td>alegria</td>\n    </tr>\n    <tr>\n      <th>2</th>\n      <td>fiz a adesão ao curso hoje</td>\n      <td>alegria</td>\n    </tr>\n    <tr>\n      <th>3</th>\n      <td>eu sou admirada por muitos</td>\n      <td>alegria</td>\n    </tr>\n    <tr>\n      <th>4</th>\n      <td>adoro como você</td>\n      <td>alegria</td>\n    </tr>\n    <tr>\n      <th>...</th>\n      <td>...</td>\n      <td>...</td>\n    </tr>\n    <tr>\n      <th>191</th>\n      <td>estou chocado e amedrontado com este assassina...</td>\n      <td>medo</td>\n    </tr>\n    <tr>\n      <th>192</th>\n      <td>é preciso afugenta com ímpeto este medo do inf...</td>\n      <td>medo</td>\n    </tr>\n    <tr>\n      <th>193</th>\n      <td>políticos usam suas forças para afugentar e am...</td>\n      <td>medo</td>\n    </tr>\n    <tr>\n      <th>194</th>\n      <td>o objetivo disso e apenas me amedrontar mais</td>\n      <td>medo</td>\n    </tr>\n    <tr>\n      <th>195</th>\n      <td>isso me apavora</td>\n      <td>medo</td>\n    </tr>\n  </tbody>\n</table>\n<p>196 rows × 2 columns</p>\n</div>"
     },
     "execution_count": 7,
     "metadata": {},
     "output_type": "execute_result"
    }
   ],
   "source": [
    "base_dados"
   ],
   "metadata": {
    "collapsed": false
   }
  },
  {
   "cell_type": "code",
   "execution_count": 10,
   "outputs": [
    {
     "data": {
      "text/plain": "'!\"#$%&\\'()*+,-./:;<=>?@[\\\\]^_`{|}~'"
     },
     "execution_count": 10,
     "metadata": {},
     "output_type": "execute_result"
    }
   ],
   "source": [
    "pontuacoes = string.punctuation\n",
    "pontuacoes"
   ],
   "metadata": {
    "collapsed": false
   }
  },
  {
   "cell_type": "code",
   "execution_count": 11,
   "outputs": [],
   "source": [
    "from spacy.lang.pt.stop_words import STOP_WORDS\n",
    "stop_words = STOP_WORDS"
   ],
   "metadata": {
    "collapsed": false
   }
  },
  {
   "cell_type": "code",
   "execution_count": 18,
   "outputs": [],
   "source": [
    "import pt_core_news_sm\n",
    "pln = pt_core_news_sm.load()"
   ],
   "metadata": {
    "collapsed": false
   }
  },
  {
   "cell_type": "code",
   "execution_count": 19,
   "outputs": [],
   "source": [
    "def preprocessamento(texto):\n",
    "  texto = texto.lower()\n",
    "  documento = pln(texto)\n",
    "\n",
    "  lista = []\n",
    "  for token in documento:\n",
    "    #lista.append(token.text)\n",
    "    lista.append(token.lemma_)\n",
    "\n",
    "  lista = [palavra for palavra in lista if palavra not in stop_words and palavra not in pontuacoes]\n",
    "  lista = ' '.join([str(elemento) for elemento in lista if not elemento.isdigit()])\n",
    "\n",
    "  return lista"
   ],
   "metadata": {
    "collapsed": false
   }
  },
  {
   "cell_type": "code",
   "execution_count": 20,
   "outputs": [
    {
     "data": {
      "text/plain": "'aprender processamento linguagem natural cursar curitiba'"
     },
     "execution_count": 20,
     "metadata": {},
     "output_type": "execute_result"
    }
   ],
   "source": [
    "teste = preprocessamento('Estou aPrendendo 1 10 23 processamento de linguagem natural, Curso em Curitiba')\n",
    "teste"
   ],
   "metadata": {
    "collapsed": false
   }
  },
  {
   "cell_type": "code",
   "execution_count": 21,
   "outputs": [],
   "source": [
    "base_dados['texto'] = base_dados['texto'].apply(preprocessamento)"
   ],
   "metadata": {
    "collapsed": false
   }
  },
  {
   "cell_type": "code",
   "execution_count": 22,
   "outputs": [],
   "source": [
    "base_dados_final = []\n",
    "for texto, emocao in zip(base_dados['texto'], base_dados['emocao']):\n",
    "  #print(texto, emocao)\n",
    "  if emocao == 'alegria':\n",
    "    dic = ({'ALEGRIA': True, 'MEDO': False})\n",
    "  elif emocao == 'medo':\n",
    "    dic = ({'ALEGRIA': False, 'MEDO': True})\n",
    "\n",
    "  base_dados_final.append([texto, dic.copy()])"
   ],
   "metadata": {
    "collapsed": false
   }
  },
  {
   "cell_type": "code",
   "execution_count": 23,
   "outputs": [
    {
     "data": {
      "text/plain": "['trabalhar agradável', {'ALEGRIA': True, 'MEDO': False}]"
     },
     "execution_count": 23,
     "metadata": {},
     "output_type": "execute_result"
    }
   ],
   "source": [
    "base_dados_final[0]"
   ],
   "metadata": {
    "collapsed": false
   }
  },
  {
   "cell_type": "code",
   "execution_count": 24,
   "outputs": [
    {
     "data": {
      "text/plain": "[['trabalhar agradável', {'ALEGRIA': True, 'MEDO': False}],\n ['gostar ficar o aconchegar', {'ALEGRIA': True, 'MEDO': False}],\n ['o adesão o o cursar hoje', {'ALEGRIA': True, 'MEDO': False}],\n ['admirar', {'ALEGRIA': True, 'MEDO': False}],\n ['adorar comer', {'ALEGRIA': True, 'MEDO': False}],\n ['adorar cabelar maciar', {'ALEGRIA': True, 'MEDO': False}],\n ['adorar o cor olho', {'ALEGRIA': True, 'MEDO': False}],\n ['somar amável o outro', {'ALEGRIA': True, 'MEDO': False}],\n ['sentir umar afeição', {'ALEGRIA': True, 'MEDO': False}],\n ['querer agradar filho', {'ALEGRIA': True, 'MEDO': False}],\n ['sentir completamente amar', {'ALEGRIA': True, 'MEDO': False}],\n ['amar', {'ALEGRIA': True, 'MEDO': False}],\n ['alívio', {'ALEGRIA': True, 'MEDO': False}],\n ['o dor amenizar finalmente', {'ALEGRIA': True, 'MEDO': False}],\n ['achar apaixonar', {'ALEGRIA': True, 'MEDO': False}],\n ['amar maravilhoso', {'ALEGRIA': True, 'MEDO': False}],\n ['sentir animar', {'ALEGRIA': True, 'MEDO': False}],\n ['sentir hoje', {'ALEGRIA': True, 'MEDO': False}],\n ['comer o luar belo', {'ALEGRIA': True, 'MEDO': False}],\n ['o dia bonito', {'ALEGRIA': True, 'MEDO': False}],\n ['comer afortunar', {'ALEGRIA': True, 'MEDO': False}],\n ['o maravilhar mundo', {'ALEGRIA': True, 'MEDO': False}],\n ['receber caro hoje colega', {'ALEGRIA': True, 'MEDO': False}],\n ['sentir reconfortar hoje', {'ALEGRIA': True, 'MEDO': False}],\n ['o amigo', {'ALEGRIA': True, 'MEDO': False}],\n ['contentar o resultar teste', {'ALEGRIA': True, 'MEDO': False}],\n ['pintura brilhante', {'ALEGRIA': True, 'MEDO': False}],\n ['água abundância', {'ALEGRIA': True, 'MEDO': False}],\n ['roupar delicado', {'ALEGRIA': True, 'MEDO': False}],\n ['comediante', {'ALEGRIA': True, 'MEDO': False}],\n ['bondade o suar', {'ALEGRIA': True, 'MEDO': False}],\n ['o amor lindar', {'ALEGRIA': True, 'MEDO': False}],\n ['amizade durar parir', {'ALEGRIA': True, 'MEDO': False}],\n ['eufórico o notícia', {'ALEGRIA': True, 'MEDO': False}],\n ['realmente fiel o mim', {'ALEGRIA': True, 'MEDO': False}],\n ['umar festa parir comemorar aniversário', {'ALEGRIA': True, 'MEDO': False}],\n ['graça o deus enxergar o certar', {'ALEGRIA': True, 'MEDO': False}],\n ['o melhor escolher', {'ALEGRIA': True, 'MEDO': False}],\n ['o incrível belo', {'ALEGRIA': True, 'MEDO': False}],\n ['engraçar explicar', {'ALEGRIA': True, 'MEDO': False}],\n ['emocionante n', {'ALEGRIA': True, 'MEDO': False}],\n ['cativar pelar olhar', {'ALEGRIA': True, 'MEDO': False}],\n ['loucamente apaixonar', {'ALEGRIA': True, 'MEDO': False}],\n ['dúvida', {'ALEGRIA': True, 'MEDO': False}],\n ['rodear pelar abraçar', {'ALEGRIA': True, 'MEDO': False}],\n ['estrelo pelar caminhar', {'ALEGRIA': True, 'MEDO': False}],\n ['sentir o sol', {'ALEGRIA': True, 'MEDO': False}],\n ['sorrir orelhar o orelhar', {'ALEGRIA': True, 'MEDO': False}],\n ['valer o peno', {'ALEGRIA': True, 'MEDO': False}],\n ['finalmente colocar amor', {'ALEGRIA': True, 'MEDO': False}],\n ['nó dançar noite adentrar', {'ALEGRIA': True, 'MEDO': False}],\n ['amor brilhante', {'ALEGRIA': True, 'MEDO': False}],\n ['tocar coração durante o caminhar', {'ALEGRIA': True, 'MEDO': False}],\n ['suar amigo e companheiro', {'ALEGRIA': True, 'MEDO': False}],\n ['trazer voltar o vidar', {'ALEGRIA': True, 'MEDO': False}],\n ['e comer sonhar doce', {'ALEGRIA': True, 'MEDO': False}],\n ['adorar doce frutar', {'ALEGRIA': True, 'MEDO': False}],\n ['suco favorito', {'ALEGRIA': True, 'MEDO': False}],\n ['agradecido pelar ajudar', {'ALEGRIA': True, 'MEDO': False}],\n ['enorme prazer equipar', {'ALEGRIA': True, 'MEDO': False}],\n ['trabalhar equipar o melhor', {'ALEGRIA': True, 'MEDO': False}],\n ['sentir flutuar o ar', {'ALEGRIA': True, 'MEDO': False}],\n ['o brisa agradável hoje', {'ALEGRIA': True, 'MEDO': False}],\n ['ótimo e compatível', {'ALEGRIA': True, 'MEDO': False}],\n ['compatível o outro', {'ALEGRIA': True, 'MEDO': False}],\n ['o órgão compatível o paciente', {'ALEGRIA': True, 'MEDO': False}],\n ['contentar aceito o faculdade', {'ALEGRIA': True, 'MEDO': False}],\n ['aprovar o exame', {'ALEGRIA': True, 'MEDO': False}],\n ['beneficiar pelar empresar', {'ALEGRIA': True, 'MEDO': False}],\n ['cativante', {'ALEGRIA': True, 'MEDO': False}],\n ['contentar o apoiar', {'ALEGRIA': True, 'MEDO': False}],\n ['comer e confortável', {'ALEGRIA': True, 'MEDO': False}],\n ['e quentar n frio', {'ALEGRIA': True, 'MEDO': False}],\n ['elogiar e', {'ALEGRIA': True, 'MEDO': False}],\n ['chamar parir comemorar', {'ALEGRIA': True, 'MEDO': False}],\n ['desejável o suar presença apresentação', {'ALEGRIA': True, 'MEDO': False}],\n ['grato o', {'ALEGRIA': True, 'MEDO': False}],\n ['dedicar n', {'ALEGRIA': True, 'MEDO': False}],\n ['completamente apaixonar', {'ALEGRIA': True, 'MEDO': False}],\n ['agitar noite', {'ALEGRIA': True, 'MEDO': False}],\n ['significar parir mim', {'ALEGRIA': True, 'MEDO': False}],\n ['agir preconceito e julgamento', {'ALEGRIA': True, 'MEDO': False}],\n ['finalmente completar o coleção maravilhoso',\n  {'ALEGRIA': True, 'MEDO': False}],\n ['suar rei', {'ALEGRIA': True, 'MEDO': False}],\n ['satisfatoriamente anunciar o vencedor jogo',\n  {'ALEGRIA': True, 'MEDO': False}],\n ['atrair facilmente', {'ALEGRIA': True, 'MEDO': False}],\n ['rapaz e extremamente atraente', {'ALEGRIA': True, 'MEDO': False}],\n ['sinto-me vivo', {'ALEGRIA': True, 'MEDO': False}],\n ['sinto-me paz', {'ALEGRIA': True, 'MEDO': False}],\n ['lucrar', {'ALEGRIA': True, 'MEDO': False}],\n ['ordem', {'ALEGRIA': True, 'MEDO': False}],\n ['arrumar empregar junto', {'ALEGRIA': True, 'MEDO': False}],\n ['o arrumação terminar alívio', {'ALEGRIA': True, 'MEDO': False}],\n ['o câncer benigno', {'ALEGRIA': True, 'MEDO': False}],\n ['o amor abundante', {'ALEGRIA': True, 'MEDO': False}],\n ['caridoso natal', {'ALEGRIA': True, 'MEDO': False}],\n ['charme irar atrair o', {'ALEGRIA': True, 'MEDO': False}],\n ['comer charmoso querer', {'ALEGRIA': True, 'MEDO': False}],\n ['querido amigo', {'ALEGRIA': True, 'MEDO': False}],\n ['cuidadoso o sentimento', {'ALEGRIA': True, 'MEDO': False}],\n ['comover tamanho caridade', {'ALEGRIA': True, 'MEDO': False}],\n ['chá quentar e reconfortante', {'ALEGRIA': True, 'MEDO': False}],\n ['alegria', {'ALEGRIA': True, 'MEDO': False}],\n ['aplaudir o vencedor', {'ALEGRIA': True, 'MEDO': False}],\n ['palmar parir o aniversariante', {'ALEGRIA': True, 'MEDO': False}],\n ['desejar o', {'ALEGRIA': True, 'MEDO': False}],\n ['horar apreciar vinho', {'ALEGRIA': True, 'MEDO': False}],\n ['apreciar suar presença escola', {'ALEGRIA': True, 'MEDO': False}],\n ['ansiar trabalho', {'ALEGRIA': True, 'MEDO': False}],\n ['maravilhoso jogar amistoso', {'ALEGRIA': True, 'MEDO': False}],\n ['e ótimo o menimos apaziguar', {'ALEGRIA': True, 'MEDO': False}],\n ['concretizar finalmente sonhar', {'ALEGRIA': True, 'MEDO': False}],\n ['implorar matar', {'ALEGRIA': False, 'MEDO': True}],\n ['perigoso', {'ALEGRIA': False, 'MEDO': True}],\n ['segurar', {'ALEGRIA': False, 'MEDO': True}],\n ['correr pra', {'ALEGRIA': False, 'MEDO': True}],\n ['socorrer querer roubar o doce', {'ALEGRIA': False, 'MEDO': True}],\n ['caro perseguir', {'ALEGRIA': False, 'MEDO': True}],\n ['entrar perigoso', {'ALEGRIA': False, 'MEDO': True}],\n ['continuar assustador', {'ALEGRIA': False, 'MEDO': True}],\n ['o selva animar perigoso', {'ALEGRIA': False, 'MEDO': True}],\n ['avançar cautela', {'ALEGRIA': False, 'MEDO': True}],\n ['silencioso cuidar', {'ALEGRIA': False, 'MEDO': True}],\n ['deixe-me viver', {'ALEGRIA': False, 'MEDO': True}],\n ['ficar mesada tirar noto', {'ALEGRIA': False, 'MEDO': True}],\n ['parecer olho o vigiar', {'ALEGRIA': False, 'MEDO': True}],\n ['o sentença juiz negativo', {'ALEGRIA': False, 'MEDO': True}],\n ['missão arriscar', {'ALEGRIA': False, 'MEDO': True}],\n ['salvem-se', {'ALEGRIA': False, 'MEDO': True}],\n ['planar descobrir', {'ALEGRIA': False, 'MEDO': True}],\n ['culpar jurar', {'ALEGRIA': False, 'MEDO': True}],\n ['tomar cuidar o lobisomem', {'ALEGRIA': False, 'MEDO': True}],\n ['achar descobrir o verdade', {'ALEGRIA': False, 'MEDO': True}],\n ['deus desaparecer', {'ALEGRIA': False, 'MEDO': True}],\n ['tomar d', {'ALEGRIA': False, 'MEDO': True}],\n ['manter segredar descobrir ferrar', {'ALEGRIA': False, 'MEDO': True}],\n ['soltar inocentar', {'ALEGRIA': False, 'MEDO': True}],\n ['ouvir passo mim', {'ALEGRIA': False, 'MEDO': True}],\n ['pedir socorrer', {'ALEGRIA': False, 'MEDO': True}],\n ['cuidar o curvo o estrar', {'ALEGRIA': False, 'MEDO': True}],\n ['parecer perigoso', {'ALEGRIA': False, 'MEDO': True}],\n ['tremer medo', {'ALEGRIA': False, 'MEDO': True}],\n ['socorrer cair', {'ALEGRIA': False, 'MEDO': True}],\n ['o florestar negro perigoso', {'ALEGRIA': False, 'MEDO': True}],\n ['ouvir passo o direção', {'ALEGRIA': False, 'MEDO': True}],\n ['achar arriscar', {'ALEGRIA': False, 'MEDO': True}],\n ['voltar perigoso', {'ALEGRIA': False, 'MEDO': True}],\n ['fugir acabar morto', {'ALEGRIA': False, 'MEDO': True}],\n ['recear livrar d situação', {'ALEGRIA': False, 'MEDO': True}],\n ['socorrer armar', {'ALEGRIA': False, 'MEDO': True}],\n ['eis cuidar bater o postar', {'ALEGRIA': False, 'MEDO': True}],\n ['socorrer nó afundar', {'ALEGRIA': False, 'MEDO': True}],\n ['e sério cuidar armar', {'ALEGRIA': False, 'MEDO': True}],\n ['o tubarão atacar', {'ALEGRIA': False, 'MEDO': True}],\n ['sentir arrepio ficar o escuro', {'ALEGRIA': False, 'MEDO': True}],\n ['calmo o dinheiro', {'ALEGRIA': False, 'MEDO': True}],\n ['achar enganar', {'ALEGRIA': False, 'MEDO': True}],\n ['ligeiro fugir depressa', {'ALEGRIA': False, 'MEDO': True}],\n ['crocodilo selvagem vir parir', {'ALEGRIA': False, 'MEDO': True}],\n ['ficar o achar', {'ALEGRIA': False, 'MEDO': True}],\n ['fugir o tigre parecer faminto', {'ALEGRIA': False, 'MEDO': True}],\n ['sair precisar milagre', {'ALEGRIA': False, 'MEDO': True}],\n ['tirar mim socorrer', {'ALEGRIA': False, 'MEDO': True}],\n ['nadar afogar', {'ALEGRIA': False, 'MEDO': True}],\n ['e segurar', {'ALEGRIA': False, 'MEDO': True}],\n ['apanhar pai boletim', {'ALEGRIA': False, 'MEDO': True}],\n ['conseguir sair d', {'ALEGRIA': False, 'MEDO': True}],\n ['sair tardar assaltar', {'ALEGRIA': False, 'MEDO': True}],\n ['deixar', {'ALEGRIA': False, 'MEDO': True}],\n ['esperar largar', {'ALEGRIA': False, 'MEDO': True}],\n ['pelar suar segurança', {'ALEGRIA': False, 'MEDO': True}],\n ['entregar o dinheiro matar', {'ALEGRIA': False, 'MEDO': True}],\n ['levar o dinheiro', {'ALEGRIA': False, 'MEDO': True}],\n ['dirigir rápido', {'ALEGRIA': False, 'MEDO': True}],\n ['descobrir prender', {'ALEGRIA': False, 'MEDO': True}],\n ['esperar nenhum', {'ALEGRIA': False, 'MEDO': True}],\n ['afogar ajudar o sair água', {'ALEGRIA': False, 'MEDO': True}],\n ['o salvar', {'ALEGRIA': False, 'MEDO': True}],\n ['querer pensar o acontecer', {'ALEGRIA': False, 'MEDO': True}],\n ['n cidade umar desgraçar outro', {'ALEGRIA': False, 'MEDO': True}],\n ['alguém ligar assustar', {'ALEGRIA': False, 'MEDO': True}],\n ['remedio matar', {'ALEGRIA': False, 'MEDO': True}],\n ['confiar n cautela', {'ALEGRIA': False, 'MEDO': True}],\n ['cautela', {'ALEGRIA': False, 'MEDO': True}],\n ['descobrir deus', {'ALEGRIA': False, 'MEDO': True}],\n ['recear', {'ALEGRIA': False, 'MEDO': True}],\n ['o noite e perigoso', {'ALEGRIA': False, 'MEDO': True}],\n ['estremecer casar', {'ALEGRIA': False, 'MEDO': True}],\n ['olhar criatura mover monstruosamente', {'ALEGRIA': False, 'MEDO': True}],\n ['aguentar suspense', {'ALEGRIA': False, 'MEDO': True}],\n ['afugentar o cão', {'ALEGRIA': False, 'MEDO': True}],\n ['chocar e amedrontar assassinato brutal', {'ALEGRIA': False, 'MEDO': True}],\n ['precisar afugentar ímpeto medo infernar', {'ALEGRIA': False, 'MEDO': True}],\n ['político suar forçar parir afugentar e amedrontar o',\n  {'ALEGRIA': False, 'MEDO': True}],\n ['o objetivo d e amedrontar', {'ALEGRIA': False, 'MEDO': True}],\n ['apavorar', {'ALEGRIA': False, 'MEDO': True}]]"
     },
     "execution_count": 24,
     "metadata": {},
     "output_type": "execute_result"
    }
   ],
   "source": [
    "base_dados_final"
   ],
   "metadata": {
    "collapsed": false
   }
  },
  {
   "cell_type": "markdown",
   "source": [
    "## classificador"
   ],
   "metadata": {
    "collapsed": false
   }
  },
  {
   "cell_type": "code",
   "execution_count": 25,
   "outputs": [],
   "source": [
    "modelo = spacy.blank('pt')\n",
    "categorias = modelo.create_pipe(\"textcat\")\n",
    "categorias.add_label(\"ALEGRIA\")\n",
    "categorias.add_label(\"MEDO\")\n",
    "modelo.add_pipe(categorias)\n",
    "historico = []"
   ],
   "metadata": {
    "collapsed": false
   }
  },
  {
   "cell_type": "code",
   "execution_count": 26,
   "outputs": [
    {
     "name": "stdout",
     "output_type": "stream",
     "text": [
      "{'textcat': 0.006535151100251824}\n",
      "{'textcat': 1.6112404388479717e-07}\n",
      "{'textcat': 5.051674922817995e-08}\n",
      "{'textcat': 2.6972716726803014e-08}\n",
      "{'textcat': 1.2982691588447892e-08}\n",
      "{'textcat': 8.317084576603406e-09}\n",
      "{'textcat': 7.596797774178654e-09}\n",
      "{'textcat': 4.462982206021593e-09}\n",
      "{'textcat': 3.5257322339443675e-09}\n",
      "{'textcat': 3.56662030465138e-09}\n"
     ]
    }
   ],
   "source": [
    "modelo.begin_training()\n",
    "for epoca in range(1000):\n",
    "  random.shuffle(base_dados_final)\n",
    "  losses = {}\n",
    "  for batch in spacy.util.minibatch(base_dados_final, 30):\n",
    "    textos = [modelo(texto) for texto, entities in batch]\n",
    "    annotations = [{'cats': entities} for texto, entities in batch]\n",
    "    modelo.update(textos, annotations, losses=losses)\n",
    "  if epoca % 100 == 0:\n",
    "    print(losses)\n",
    "    historico.append(losses)"
   ],
   "metadata": {
    "collapsed": false
   }
  },
  {
   "cell_type": "code",
   "execution_count": 27,
   "outputs": [],
   "source": [
    "historico_loss = []\n",
    "for i in historico:\n",
    "  historico_loss.append(i.get('textcat'))"
   ],
   "metadata": {
    "collapsed": false
   }
  },
  {
   "cell_type": "code",
   "execution_count": 28,
   "outputs": [
    {
     "data": {
      "text/plain": "array([6.53515110e-03, 1.61124044e-07, 5.05167492e-08, 2.69727167e-08,\n       1.29826916e-08, 8.31708458e-09, 7.59679777e-09, 4.46298221e-09,\n       3.52573223e-09, 3.56662030e-09])"
     },
     "execution_count": 28,
     "metadata": {},
     "output_type": "execute_result"
    }
   ],
   "source": [
    "historico_loss = np.array(historico_loss)\n",
    "historico_loss"
   ],
   "metadata": {
    "collapsed": false
   }
  },
  {
   "cell_type": "code",
   "execution_count": 29,
   "outputs": [
    {
     "data": {
      "text/plain": "Text(0, 0.5, 'Erro')"
     },
     "execution_count": 29,
     "metadata": {},
     "output_type": "execute_result"
    },
    {
     "data": {
      "text/plain": "<Figure size 640x480 with 1 Axes>",
      "image/png": "[encoded data removed]"
     },
     "metadata": {},
     "output_type": "display_data"
    }
   ],
   "source": [
    "import matplotlib.pyplot as plt\n",
    "plt.plot(historico_loss)\n",
    "plt.title('Progressão do erro')\n",
    "plt.xlabel('Épocas')\n",
    "plt.ylabel('Erro')"
   ],
   "metadata": {
    "collapsed": false
   }
  },
  {
   "cell_type": "markdown",
   "source": [
    "## salva o modelo com as categorias alegria e medo"
   ],
   "metadata": {
    "collapsed": false
   }
  },
  {
   "cell_type": "code",
   "execution_count": 30,
   "outputs": [],
   "source": [
    "modelo.to_disk(\"./data/modelo_alegria_medo.model\")"
   ],
   "metadata": {
    "collapsed": false
   }
  },
  {
   "cell_type": "markdown",
   "source": [
    "## Importando o modelo"
   ],
   "metadata": {
    "collapsed": false
   }
  },
  {
   "cell_type": "code",
   "execution_count": 31,
   "outputs": [
    {
     "data": {
      "text/plain": "<spacy.lang.pt.Portuguese at 0x13d8732bf98>"
     },
     "execution_count": 31,
     "metadata": {},
     "output_type": "execute_result"
    }
   ],
   "source": [
    "modelo_carregado = spacy.load(\"./data/modelo_alegria_medo.model\")\n",
    "modelo_carregado"
   ],
   "metadata": {
    "collapsed": false
   }
  },
  {
   "cell_type": "code",
   "execution_count": 32,
   "outputs": [],
   "source": [
    "texto_positivo = 'eu adoro cor dos seus olhos'"
   ],
   "metadata": {
    "collapsed": false
   }
  },
  {
   "cell_type": "code",
   "execution_count": 33,
   "outputs": [
    {
     "data": {
      "text/plain": "'adorar cor olho'"
     },
     "execution_count": 33,
     "metadata": {},
     "output_type": "execute_result"
    }
   ],
   "source": [
    "texto_positivo = preprocessamento(texto_positivo)\n",
    "texto_positivo"
   ],
   "metadata": {
    "collapsed": false
   }
  },
  {
   "cell_type": "code",
   "execution_count": 34,
   "outputs": [
    {
     "data": {
      "text/plain": "adorar cor olho"
     },
     "execution_count": 34,
     "metadata": {},
     "output_type": "execute_result"
    }
   ],
   "source": [
    "previsao = modelo_carregado(texto_positivo)\n",
    "previsao"
   ],
   "metadata": {
    "collapsed": false
   }
  },
  {
   "cell_type": "code",
   "execution_count": 35,
   "outputs": [
    {
     "data": {
      "text/plain": "{'ALEGRIA': 0.9971259236335754, 'MEDO': 0.0006870364886708558}"
     },
     "execution_count": 35,
     "metadata": {},
     "output_type": "execute_result"
    }
   ],
   "source": [
    "previsao.cats"
   ],
   "metadata": {
    "collapsed": false
   }
  },
  {
   "cell_type": "code",
   "execution_count": 36,
   "outputs": [
    {
     "data": {
      "text/plain": "{'ALEGRIA': 0.002741253701969981, 'MEDO': 0.9987145662307739}"
     },
     "execution_count": 36,
     "metadata": {},
     "output_type": "execute_result"
    }
   ],
   "source": [
    "texto_negativo = 'estou com medo dele'\n",
    "previsao = modelo_carregado(preprocessamento(texto_negativo))\n",
    "previsao.cats"
   ],
   "metadata": {
    "collapsed": false
   }
  },
  {
   "cell_type": "markdown",
   "source": [
    "## Avaliação de modelo"
   ],
   "metadata": {
    "collapsed": false
   }
  },
  {
   "cell_type": "code",
   "execution_count": 37,
   "outputs": [],
   "source": [
    "previsoes = []\n",
    "for texto in base_dados['texto']:\n",
    "  #print(texto)\n",
    "  previsao = modelo_carregado(texto)\n",
    "  previsoes.append(previsao.cats)"
   ],
   "metadata": {
    "collapsed": false
   }
  },
  {
   "cell_type": "code",
   "execution_count": 38,
   "outputs": [
    {
     "data": {
      "text/plain": "[{'ALEGRIA': 0.9996316432952881, 'MEDO': 0.00011928264575544745},\n {'ALEGRIA': 0.9994291663169861, 'MEDO': 0.0005649746162816882},\n {'ALEGRIA': 0.9995737671852112, 'MEDO': 0.00021485413890331984},\n {'ALEGRIA': 0.9995716214179993, 'MEDO': 0.00038138628588058054},\n {'ALEGRIA': 0.9999545812606812, 'MEDO': 7.42098709451966e-05},\n {'ALEGRIA': 0.9999289512634277, 'MEDO': 0.00022232496121432632},\n {'ALEGRIA': 0.9998327493667603, 'MEDO': 0.000332310184603557},\n {'ALEGRIA': 0.999748170375824, 'MEDO': 0.0005825523403473198},\n {'ALEGRIA': 0.9997745156288147, 'MEDO': 0.00015310638991650194},\n {'ALEGRIA': 0.9991899132728577, 'MEDO': 0.00022958395129535347},\n {'ALEGRIA': 0.9998985528945923, 'MEDO': 0.00019359066209290177},\n {'ALEGRIA': 0.9999144077301025, 'MEDO': 0.0001801744510885328},\n {'ALEGRIA': 0.9999545812606812, 'MEDO': 0.00011279372847639024},\n {'ALEGRIA': 0.9996888637542725, 'MEDO': 0.0002666176587808877},\n {'ALEGRIA': 0.9986627101898193, 'MEDO': 0.001504047540947795},\n {'ALEGRIA': 0.9999411106109619, 'MEDO': 8.622787572676316e-05},\n {'ALEGRIA': 0.9999454021453857, 'MEDO': 0.00030431951745413244},\n {'ALEGRIA': 0.999950647354126, 'MEDO': 0.00014656022540293634},\n {'ALEGRIA': 0.999941349029541, 'MEDO': 0.00015117795555852354},\n {'ALEGRIA': 0.9995971322059631, 'MEDO': 0.0003790792543441057},\n {'ALEGRIA': 0.9999531507492065, 'MEDO': 7.826671935617924e-05},\n {'ALEGRIA': 0.9997958540916443, 'MEDO': 0.0002795913314912468},\n {'ALEGRIA': 0.9995878338813782, 'MEDO': 0.00045985111501067877},\n {'ALEGRIA': 0.999894380569458, 'MEDO': 0.0002562469453550875},\n {'ALEGRIA': 0.9998201727867126, 'MEDO': 0.0003812253999058157},\n {'ALEGRIA': 0.9997542500495911, 'MEDO': 0.00017520930850878358},\n {'ALEGRIA': 0.9997853636741638, 'MEDO': 0.0002518803521525115},\n {'ALEGRIA': 0.9998544454574585, 'MEDO': 0.0003671855083666742},\n {'ALEGRIA': 0.9997190833091736, 'MEDO': 8.761505159782246e-05},\n {'ALEGRIA': 0.9997314810752869, 'MEDO': 0.00012186264939373359},\n {'ALEGRIA': 0.9998972415924072, 'MEDO': 0.00029359248583205044},\n {'ALEGRIA': 0.9996240139007568, 'MEDO': 0.0003281682438682765},\n {'ALEGRIA': 0.9996069073677063, 'MEDO': 0.00040491417166776955},\n {'ALEGRIA': 0.9996598958969116, 'MEDO': 0.0004517589113675058},\n {'ALEGRIA': 0.9995889067649841, 'MEDO': 0.0001458991609979421},\n {'ALEGRIA': 0.9997617602348328, 'MEDO': 0.00026581151178106666},\n {'ALEGRIA': 0.9993398785591125, 'MEDO': 0.00038014558958821},\n {'ALEGRIA': 0.9996932744979858, 'MEDO': 0.0002432166220387444},\n {'ALEGRIA': 0.9998345375061035, 'MEDO': 0.00012017588596791029},\n {'ALEGRIA': 0.9998149275779724, 'MEDO': 0.00021337909856811166},\n {'ALEGRIA': 0.9998376369476318, 'MEDO': 0.00020411690638866276},\n {'ALEGRIA': 0.9997065663337708, 'MEDO': 0.0003254721232224256},\n {'ALEGRIA': 0.9999545812606812, 'MEDO': 0.00019342938321642578},\n {'ALEGRIA': 0.9998049139976501, 'MEDO': 0.0005382500239647925},\n {'ALEGRIA': 0.9996235370635986, 'MEDO': 0.00046718236990273},\n {'ALEGRIA': 0.999716579914093, 'MEDO': 0.00028522408683784306},\n {'ALEGRIA': 0.9995433688163757, 'MEDO': 0.00036257487954571843},\n {'ALEGRIA': 0.9996916055679321, 'MEDO': 0.000506976037286222},\n {'ALEGRIA': 0.9998005032539368, 'MEDO': 0.00022811267990618944},\n {'ALEGRIA': 0.9997267127037048, 'MEDO': 0.000371919188182801},\n {'ALEGRIA': 0.9996362924575806, 'MEDO': 0.0004007336974609643},\n {'ALEGRIA': 0.9998217225074768, 'MEDO': 0.0001565948623465374},\n {'ALEGRIA': 0.9996906518936157, 'MEDO': 0.00031727307941764593},\n {'ALEGRIA': 0.9995929598808289, 'MEDO': 0.00022969300334807485},\n {'ALEGRIA': 0.9987995624542236, 'MEDO': 0.0012316176434978843},\n {'ALEGRIA': 0.9998084902763367, 'MEDO': 0.0003610535350162536},\n {'ALEGRIA': 0.9997031092643738, 'MEDO': 0.0003581765340641141},\n {'ALEGRIA': 0.9999046325683594, 'MEDO': 0.00012185009109089151},\n {'ALEGRIA': 0.9997053742408752, 'MEDO': 0.0005913153872825205},\n {'ALEGRIA': 0.9995074272155762, 'MEDO': 0.0005775669123977423},\n {'ALEGRIA': 0.9996542930603027, 'MEDO': 0.0003620222269091755},\n {'ALEGRIA': 0.9994605183601379, 'MEDO': 0.0005771630094386637},\n {'ALEGRIA': 0.9999113082885742, 'MEDO': 0.0002545526367612183},\n {'ALEGRIA': 0.9997062087059021, 'MEDO': 0.00019757534028030932},\n {'ALEGRIA': 0.999721109867096, 'MEDO': 0.0004912756267003715},\n {'ALEGRIA': 0.9998644590377808, 'MEDO': 0.00035157115780748427},\n {'ALEGRIA': 0.9995785355567932, 'MEDO': 0.00035082868998870254},\n {'ALEGRIA': 0.9998623132705688, 'MEDO': 0.00040277556399814785},\n {'ALEGRIA': 0.9997768998146057, 'MEDO': 0.0002249950630357489},\n {'ALEGRIA': 0.9998145699501038, 'MEDO': 0.00018298423674423248},\n {'ALEGRIA': 0.9998059868812561, 'MEDO': 0.00012585344666149467},\n {'ALEGRIA': 0.9996194839477539, 'MEDO': 0.0002589438809081912},\n {'ALEGRIA': 0.9995606541633606, 'MEDO': 0.00034780456917360425},\n {'ALEGRIA': 0.9994707703590393, 'MEDO': 0.0004374546988401562},\n {'ALEGRIA': 0.9999023675918579, 'MEDO': 9.579791367286816e-05},\n {'ALEGRIA': 0.9998714923858643, 'MEDO': 0.00015810030163265765},\n {'ALEGRIA': 0.9998880624771118, 'MEDO': 0.0003315807261969894},\n {'ALEGRIA': 0.9995081424713135, 'MEDO': 0.0004389651876408607},\n {'ALEGRIA': 0.9999545812606812, 'MEDO': 7.854627619963139e-05},\n {'ALEGRIA': 0.9995703101158142, 'MEDO': 0.00042697478784248233},\n {'ALEGRIA': 0.9997069239616394, 'MEDO': 0.00042209908133372664},\n {'ALEGRIA': 0.9996199607849121, 'MEDO': 0.0005067897727712989},\n {'ALEGRIA': 0.9998551607131958, 'MEDO': 0.0005007702857255936},\n {'ALEGRIA': 0.9996870756149292, 'MEDO': 0.0004903663066215813},\n {'ALEGRIA': 0.9998527765274048, 'MEDO': 0.0003243322717025876},\n {'ALEGRIA': 0.9999452829360962, 'MEDO': 0.0001479399943491444},\n {'ALEGRIA': 0.9996237754821777, 'MEDO': 0.0004066327528562397},\n {'ALEGRIA': 0.9999524354934692, 'MEDO': 9.037221025209874e-05},\n {'ALEGRIA': 0.9994101524353027, 'MEDO': 0.00022755848476663232},\n {'ALEGRIA': 0.9997081160545349, 'MEDO': 0.0005663896445184946},\n {'ALEGRIA': 0.9996852874755859, 'MEDO': 0.0004717720439657569},\n {'ALEGRIA': 0.999942421913147, 'MEDO': 0.00029398014885373414},\n {'ALEGRIA': 0.9999247789382935, 'MEDO': 0.00019290797354187816},\n {'ALEGRIA': 0.9995561242103577, 'MEDO': 0.0005336574977263808},\n {'ALEGRIA': 0.9999451637268066, 'MEDO': 0.00010668451432138681},\n {'ALEGRIA': 0.9996621608734131, 'MEDO': 0.0002740519994404167},\n {'ALEGRIA': 0.9999300241470337, 'MEDO': 0.00035717265564017},\n {'ALEGRIA': 0.9998373985290527, 'MEDO': 0.00041922787204384804},\n {'ALEGRIA': 0.9999370574951172, 'MEDO': 0.00010627188021317124},\n {'ALEGRIA': 0.9996944665908813, 'MEDO': 0.00023577584943268448},\n {'ALEGRIA': 0.9996724128723145, 'MEDO': 0.0003942453768104315},\n {'ALEGRIA': 0.9998383522033691, 'MEDO': 0.0003262540849391371},\n {'ALEGRIA': 0.9996398687362671, 'MEDO': 0.000583643326535821},\n {'ALEGRIA': 0.9997811913490295, 'MEDO': 0.0004210381302982569},\n {'ALEGRIA': 0.9997270703315735, 'MEDO': 0.00021366986038628966},\n {'ALEGRIA': 0.9997465014457703, 'MEDO': 0.0003930339589715004},\n {'ALEGRIA': 0.9997498393058777, 'MEDO': 0.0003671484300866723},\n {'ALEGRIA': 0.9993277788162231, 'MEDO': 0.0006256704218685627},\n {'ALEGRIA': 0.9999291896820068, 'MEDO': 0.00015381534467451274},\n {'ALEGRIA': 0.9994101524353027, 'MEDO': 0.00024373432097490877},\n {'ALEGRIA': 0.999743640422821, 'MEDO': 0.0002800787624437362},\n {'ALEGRIA': 0.9998973608016968, 'MEDO': 0.00015591693227179348},\n {'ALEGRIA': 0.00021215382730588317, 'MEDO': 0.9997215867042542},\n {'ALEGRIA': 0.0006107110530138016, 'MEDO': 0.9993485808372498},\n {'ALEGRIA': 0.0004531645099632442, 'MEDO': 0.9996743202209473},\n {'ALEGRIA': 0.0001451182906748727, 'MEDO': 0.9998799562454224},\n {'ALEGRIA': 0.000248724507400766, 'MEDO': 0.9996821880340576},\n {'ALEGRIA': 0.00043438878492452204, 'MEDO': 0.9995788931846619},\n {'ALEGRIA': 0.00023382996732834727, 'MEDO': 0.9997413754463196},\n {'ALEGRIA': 0.00030088043422438204, 'MEDO': 0.9996665716171265},\n {'ALEGRIA': 0.0007384359487332404, 'MEDO': 0.9992018342018127},\n {'ALEGRIA': 0.00043081759940832853, 'MEDO': 0.9995318651199341},\n {'ALEGRIA': 0.00048812205204740167, 'MEDO': 0.9995282888412476},\n {'ALEGRIA': 0.00037331823841668665, 'MEDO': 0.9996730089187622},\n {'ALEGRIA': 0.00023779302136972547, 'MEDO': 0.9997785687446594},\n {'ALEGRIA': 0.0002122972800862044, 'MEDO': 0.9997038245201111},\n {'ALEGRIA': 0.0005996155668981373, 'MEDO': 0.9993694424629211},\n {'ALEGRIA': 0.0002486448793206364, 'MEDO': 0.9994838237762451},\n {'ALEGRIA': 0.00023995988885872066, 'MEDO': 0.9998055100440979},\n {'ALEGRIA': 8.91518866410479e-05, 'MEDO': 0.9999446868896484},\n {'ALEGRIA': 0.0003308361629024148, 'MEDO': 0.99968421459198},\n {'ALEGRIA': 0.00010752998787211254, 'MEDO': 0.9996271133422852},\n {'ALEGRIA': 0.0010453490540385246, 'MEDO': 0.9989989399909973},\n {'ALEGRIA': 0.0005102326394990087, 'MEDO': 0.9995717406272888},\n {'ALEGRIA': 0.000508157245349139, 'MEDO': 0.9993166923522949},\n {'ALEGRIA': 0.00023847872216720134, 'MEDO': 0.9995216131210327},\n {'ALEGRIA': 0.00040119196637533605, 'MEDO': 0.9995600581169128},\n {'ALEGRIA': 0.00010323483729735017, 'MEDO': 0.999797523021698},\n {'ALEGRIA': 0.0003816044772975147, 'MEDO': 0.9995543360710144},\n {'ALEGRIA': 9.42059705266729e-05, 'MEDO': 0.9999386072158813},\n {'ALEGRIA': 4.539786823443137e-05, 'MEDO': 0.9999545812606812},\n {'ALEGRIA': 0.00045073512592352927, 'MEDO': 0.9994919300079346},\n {'ALEGRIA': 0.000254755635978654, 'MEDO': 0.9995089769363403},\n {'ALEGRIA': 0.0004055173776578158, 'MEDO': 0.9996371269226074},\n {'ALEGRIA': 9.408647747477517e-05, 'MEDO': 0.9997789263725281},\n {'ALEGRIA': 0.000994118396192789, 'MEDO': 0.9992446899414062},\n {'ALEGRIA': 0.001135632861405611, 'MEDO': 0.998630940914154},\n {'ALEGRIA': 0.0001464381202822551, 'MEDO': 0.9998966455459595},\n {'ALEGRIA': 8.579563291277736e-05, 'MEDO': 0.9996912479400635},\n {'ALEGRIA': 0.00013082379882689565, 'MEDO': 0.9997395873069763},\n {'ALEGRIA': 0.00012029329081997275, 'MEDO': 0.9997623562812805},\n {'ALEGRIA': 0.0003181548381689936, 'MEDO': 0.9996805191040039},\n {'ALEGRIA': 0.0003302591503597796, 'MEDO': 0.9995326995849609},\n {'ALEGRIA': 0.0006006709299981594, 'MEDO': 0.9992966651916504},\n {'ALEGRIA': 0.0007113187457434833, 'MEDO': 0.999392032623291},\n {'ALEGRIA': 0.0002496713132131845, 'MEDO': 0.999640703201294},\n {'ALEGRIA': 0.0008966027526184916, 'MEDO': 0.9993213415145874},\n {'ALEGRIA': 0.00029239244759082794, 'MEDO': 0.9998753070831299},\n {'ALEGRIA': 0.00036474669468589127, 'MEDO': 0.9995279312133789},\n {'ALEGRIA': 0.00019553722813725471, 'MEDO': 0.9998249411582947},\n {'ALEGRIA': 0.00046941437176428735, 'MEDO': 0.999806821346283},\n {'ALEGRIA': 0.0003181966894771904, 'MEDO': 0.9996942281723022},\n {'ALEGRIA': 0.0005564250168390572, 'MEDO': 0.9996457099914551},\n {'ALEGRIA': 0.00020730927644763142, 'MEDO': 0.9997918009757996},\n {'ALEGRIA': 0.000342046027071774, 'MEDO': 0.9994970560073853},\n {'ALEGRIA': 0.0006231463048607111, 'MEDO': 0.9993653893470764},\n {'ALEGRIA': 0.000571737065911293, 'MEDO': 0.9996059536933899},\n {'ALEGRIA': 0.0002846096467692405, 'MEDO': 0.999806821346283},\n {'ALEGRIA': 0.0002810974547173828, 'MEDO': 0.9996384382247925},\n {'ALEGRIA': 0.00026431065634824336, 'MEDO': 0.9997193217277527},\n {'ALEGRIA': 0.0006339438841678202, 'MEDO': 0.9992659687995911},\n {'ALEGRIA': 0.00039323262171819806, 'MEDO': 0.9995692372322083},\n {'ALEGRIA': 0.000571476062759757, 'MEDO': 0.9995342493057251},\n {'ALEGRIA': 0.0003448678180575371, 'MEDO': 0.9996912479400635},\n {'ALEGRIA': 4.539786823443137e-05, 'MEDO': 0.999951958656311},\n {'ALEGRIA': 0.0003250724112149328, 'MEDO': 0.99960857629776},\n {'ALEGRIA': 0.0004179477400612086, 'MEDO': 0.9994827508926392},\n {'ALEGRIA': 0.0006347951712086797, 'MEDO': 0.9994993209838867},\n {'ALEGRIA': 0.000430285872425884, 'MEDO': 0.9994484782218933},\n {'ALEGRIA': 0.0007144860574044287, 'MEDO': 0.9996886253356934},\n {'ALEGRIA': 0.00015239966160152107, 'MEDO': 0.9994999170303345},\n {'ALEGRIA': 0.00038558163214474916, 'MEDO': 0.9994843006134033},\n {'ALEGRIA': 0.0005340052302926779, 'MEDO': 0.9994431138038635},\n {'ALEGRIA': 0.00020901036623399705, 'MEDO': 0.9994254112243652},\n {'ALEGRIA': 6.670736183878034e-05, 'MEDO': 0.9999502897262573},\n {'ALEGRIA': 0.0004027675313409418, 'MEDO': 0.9995606541633606},\n {'ALEGRIA': 0.0004982959944754839, 'MEDO': 0.9993529915809631},\n {'ALEGRIA': 0.0003527191001921892, 'MEDO': 0.9995059967041016},\n {'ALEGRIA': 0.0004718586860690266, 'MEDO': 0.9994614720344543},\n {'ALEGRIA': 0.00030442228307947516, 'MEDO': 0.999718964099884},\n {'ALEGRIA': 0.0001701849978417158, 'MEDO': 0.9994528889656067},\n {'ALEGRIA': 0.0004569299053400755, 'MEDO': 0.9995205402374268},\n {'ALEGRIA': 0.00019197986694052815, 'MEDO': 0.9998742341995239},\n {'ALEGRIA': 0.0004031407297588885, 'MEDO': 0.999333918094635},\n {'ALEGRIA': 0.00012807741586584598, 'MEDO': 0.999716579914093},\n {'ALEGRIA': 0.0006895501282997429, 'MEDO': 0.9996336698532104}]"
     },
     "execution_count": 38,
     "metadata": {},
     "output_type": "execute_result"
    }
   ],
   "source": [
    "previsoes"
   ],
   "metadata": {
    "collapsed": false
   }
  },
  {
   "cell_type": "code",
   "execution_count": 39,
   "outputs": [],
   "source": [
    "previsoes_final = []\n",
    "for previsao in previsoes:\n",
    "  if previsao['ALEGRIA'] > previsao['MEDO']:\n",
    "    previsoes_final.append('alegria')\n",
    "  else:\n",
    "    previsoes_final.append('medo')\n",
    "\n",
    "previsoes_final = np.array(previsoes_final)"
   ],
   "metadata": {
    "collapsed": false
   }
  },
  {
   "cell_type": "code",
   "execution_count": 40,
   "outputs": [
    {
     "data": {
      "text/plain": "array(['alegria', 'alegria', 'alegria', 'alegria', 'alegria', 'alegria',\n       'alegria', 'alegria', 'alegria', 'alegria', 'alegria', 'alegria',\n       'alegria', 'alegria', 'alegria', 'alegria', 'alegria', 'alegria',\n       'alegria', 'alegria', 'alegria', 'alegria', 'alegria', 'alegria',\n       'alegria', 'alegria', 'alegria', 'alegria', 'alegria', 'alegria',\n       'alegria', 'alegria', 'alegria', 'alegria', 'alegria', 'alegria',\n       'alegria', 'alegria', 'alegria', 'alegria', 'alegria', 'alegria',\n       'alegria', 'alegria', 'alegria', 'alegria', 'alegria', 'alegria',\n       'alegria', 'alegria', 'alegria', 'alegria', 'alegria', 'alegria',\n       'alegria', 'alegria', 'alegria', 'alegria', 'alegria', 'alegria',\n       'alegria', 'alegria', 'alegria', 'alegria', 'alegria', 'alegria',\n       'alegria', 'alegria', 'alegria', 'alegria', 'alegria', 'alegria',\n       'alegria', 'alegria', 'alegria', 'alegria', 'alegria', 'alegria',\n       'alegria', 'alegria', 'alegria', 'alegria', 'alegria', 'alegria',\n       'alegria', 'alegria', 'alegria', 'alegria', 'alegria', 'alegria',\n       'alegria', 'alegria', 'alegria', 'alegria', 'alegria', 'alegria',\n       'alegria', 'alegria', 'alegria', 'alegria', 'alegria', 'alegria',\n       'alegria', 'alegria', 'alegria', 'alegria', 'alegria', 'alegria',\n       'alegria', 'alegria', 'alegria', 'alegria', 'medo', 'medo', 'medo',\n       'medo', 'medo', 'medo', 'medo', 'medo', 'medo', 'medo', 'medo',\n       'medo', 'medo', 'medo', 'medo', 'medo', 'medo', 'medo', 'medo',\n       'medo', 'medo', 'medo', 'medo', 'medo', 'medo', 'medo', 'medo',\n       'medo', 'medo', 'medo', 'medo', 'medo', 'medo', 'medo', 'medo',\n       'medo', 'medo', 'medo', 'medo', 'medo', 'medo', 'medo', 'medo',\n       'medo', 'medo', 'medo', 'medo', 'medo', 'medo', 'medo', 'medo',\n       'medo', 'medo', 'medo', 'medo', 'medo', 'medo', 'medo', 'medo',\n       'medo', 'medo', 'medo', 'medo', 'medo', 'medo', 'medo', 'medo',\n       'medo', 'medo', 'medo', 'medo', 'medo', 'medo', 'medo', 'medo',\n       'medo', 'medo', 'medo', 'medo', 'medo', 'medo', 'medo', 'medo',\n       'medo'], dtype='<U7')"
     },
     "execution_count": 40,
     "metadata": {},
     "output_type": "execute_result"
    }
   ],
   "source": [
    "previsoes_final"
   ],
   "metadata": {
    "collapsed": false
   }
  },
  {
   "cell_type": "code",
   "execution_count": 41,
   "outputs": [
    {
     "data": {
      "text/plain": "array(['alegria', 'alegria', 'alegria', 'alegria', 'alegria', 'alegria',\n       'alegria', 'alegria', 'alegria', 'alegria', 'alegria', 'alegria',\n       'alegria', 'alegria', 'alegria', 'alegria', 'alegria', 'alegria',\n       'alegria', 'alegria', 'alegria', 'alegria', 'alegria', 'alegria',\n       'alegria', 'alegria', 'alegria', 'alegria', 'alegria', 'alegria',\n       'alegria', 'alegria', 'alegria', 'alegria', 'alegria', 'alegria',\n       'alegria', 'alegria', 'alegria', 'alegria', 'alegria', 'alegria',\n       'alegria', 'alegria', 'alegria', 'alegria', 'alegria', 'alegria',\n       'alegria', 'alegria', 'alegria', 'alegria', 'alegria', 'alegria',\n       'alegria', 'alegria', 'alegria', 'alegria', 'alegria', 'alegria',\n       'alegria', 'alegria', 'alegria', 'alegria', 'alegria', 'alegria',\n       'alegria', 'alegria', 'alegria', 'alegria', 'alegria', 'alegria',\n       'alegria', 'alegria', 'alegria', 'alegria', 'alegria', 'alegria',\n       'alegria', 'alegria', 'alegria', 'alegria', 'alegria', 'alegria',\n       'alegria', 'alegria', 'alegria', 'alegria', 'alegria', 'alegria',\n       'alegria', 'alegria', 'alegria', 'alegria', 'alegria', 'alegria',\n       'alegria', 'alegria', 'alegria', 'alegria', 'alegria', 'alegria',\n       'alegria', 'alegria', 'alegria', 'alegria', 'alegria', 'alegria',\n       'alegria', 'alegria', 'alegria', 'alegria', 'medo', 'medo', 'medo',\n       'medo', 'medo', 'medo', 'medo', 'medo', 'medo', 'medo', 'medo',\n       'medo', 'medo', 'medo', 'medo', 'medo', 'medo', 'medo', 'medo',\n       'medo', 'medo', 'medo', 'medo', 'medo', 'medo', 'medo', 'medo',\n       'medo', 'medo', 'medo', 'medo', 'medo', 'medo', 'medo', 'medo',\n       'medo', 'medo', 'medo', 'medo', 'medo', 'medo', 'medo', 'medo',\n       'medo', 'medo', 'medo', 'medo', 'medo', 'medo', 'medo', 'medo',\n       'medo', 'medo', 'medo', 'medo', 'medo', 'medo', 'medo', 'medo',\n       'medo', 'medo', 'medo', 'medo', 'medo', 'medo', 'medo', 'medo',\n       'medo', 'medo', 'medo', 'medo', 'medo', 'medo', 'medo', 'medo',\n       'medo', 'medo', 'medo', 'medo', 'medo', 'medo', 'medo', 'medo',\n       'medo'], dtype=object)"
     },
     "execution_count": 41,
     "metadata": {},
     "output_type": "execute_result"
    }
   ],
   "source": [
    "respostas_reais = base_dados['emocao'].values\n",
    "respostas_reais"
   ],
   "metadata": {
    "collapsed": false
   }
  },
  {
   "cell_type": "code",
   "execution_count": 42,
   "outputs": [
    {
     "data": {
      "text/plain": "1.0"
     },
     "execution_count": 42,
     "metadata": {},
     "output_type": "execute_result"
    }
   ],
   "source": [
    "from sklearn.metrics import confusion_matrix, accuracy_score\n",
    "accuracy_score(respostas_reais, previsoes_final)"
   ],
   "metadata": {
    "collapsed": false
   }
  },
  {
   "cell_type": "code",
   "execution_count": 43,
   "outputs": [
    {
     "data": {
      "text/plain": "array([[112,   0],\n       [  0,  84]], dtype=int64)"
     },
     "execution_count": 43,
     "metadata": {},
     "output_type": "execute_result"
    }
   ],
   "source": [
    "cm = confusion_matrix(respostas_reais, previsoes_final)\n",
    "cm"
   ],
   "metadata": {
    "collapsed": false
   }
  },
  {
   "cell_type": "markdown",
   "source": [
    "## testando o modelo"
   ],
   "metadata": {
    "collapsed": false
   }
  },
  {
   "cell_type": "code",
   "execution_count": 48,
   "outputs": [],
   "source": [
    "base_dados_teste = pd.read_csv('./data/base_teste.txt', encoding = 'utf-8')"
   ],
   "metadata": {
    "collapsed": false
   }
  },
  {
   "cell_type": "code",
   "execution_count": 49,
   "outputs": [
    {
     "data": {
      "text/plain": "                                    texto   emocao\n0           não precisei pagar o ingresso  alegria\n1             se eu ajeitar tudo fica bem  alegria\n2        minha fortuna ultrapassará a sua  alegria\n3                    sou muito afortunado  alegria\n4  é benéfico para todos esta nova medida  alegria",
      "text/html": "<div>\n<style scoped>\n    .dataframe tbody tr th:only-of-type {\n        vertical-align: middle;\n    }\n\n    .dataframe tbody tr th {\n        vertical-align: top;\n    }\n\n    .dataframe thead th {\n        text-align: right;\n    }\n</style>\n<table border=\"1\" class=\"dataframe\">\n  <thead>\n    <tr style=\"text-align: right;\">\n      <th></th>\n      <th>texto</th>\n      <th>emocao</th>\n    </tr>\n  </thead>\n  <tbody>\n    <tr>\n      <th>0</th>\n      <td>não precisei pagar o ingresso</td>\n      <td>alegria</td>\n    </tr>\n    <tr>\n      <th>1</th>\n      <td>se eu ajeitar tudo fica bem</td>\n      <td>alegria</td>\n    </tr>\n    <tr>\n      <th>2</th>\n      <td>minha fortuna ultrapassará a sua</td>\n      <td>alegria</td>\n    </tr>\n    <tr>\n      <th>3</th>\n      <td>sou muito afortunado</td>\n      <td>alegria</td>\n    </tr>\n    <tr>\n      <th>4</th>\n      <td>é benéfico para todos esta nova medida</td>\n      <td>alegria</td>\n    </tr>\n  </tbody>\n</table>\n</div>"
     },
     "execution_count": 49,
     "metadata": {},
     "output_type": "execute_result"
    }
   ],
   "source": [
    "base_dados_teste.head()"
   ],
   "metadata": {
    "collapsed": false
   }
  },
  {
   "cell_type": "code",
   "execution_count": 50,
   "outputs": [],
   "source": [
    "base_dados_teste['texto'] = base_dados_teste['texto'].apply(preprocessamento)"
   ],
   "metadata": {
    "collapsed": false
   }
  },
  {
   "cell_type": "code",
   "execution_count": 51,
   "outputs": [],
   "source": [
    "previsoes = []\n",
    "for texto in base_dados_teste['texto']:\n",
    "  #print(texto)\n",
    "  previsao = modelo_carregado(texto)\n",
    "  previsoes.append(previsao.cats)"
   ],
   "metadata": {
    "collapsed": false
   }
  },
  {
   "cell_type": "code",
   "execution_count": 52,
   "outputs": [],
   "source": [
    "previsoes_final = []\n",
    "for previsao in previsoes:\n",
    "  if previsao['ALEGRIA'] > previsao['MEDO']:\n",
    "    previsoes_final.append('alegria')\n",
    "  else:\n",
    "    previsoes_final.append('medo')\n",
    "\n",
    "previsoes_final = np.array(previsoes_final)"
   ],
   "metadata": {
    "collapsed": false
   }
  },
  {
   "cell_type": "code",
   "execution_count": 53,
   "outputs": [],
   "source": [
    "respostas_reais = base_dados_teste['emocao'].values"
   ],
   "metadata": {
    "collapsed": false
   }
  },
  {
   "cell_type": "code",
   "execution_count": 54,
   "outputs": [
    {
     "data": {
      "text/plain": "0.5714285714285714"
     },
     "execution_count": 54,
     "metadata": {},
     "output_type": "execute_result"
    }
   ],
   "source": [
    "accuracy_score(respostas_reais, previsoes_final)"
   ],
   "metadata": {
    "collapsed": false
   }
  },
  {
   "cell_type": "code",
   "execution_count": 55,
   "outputs": [
    {
     "data": {
      "text/plain": "array([[36, 12],\n       [24, 12]], dtype=int64)"
     },
     "execution_count": 55,
     "metadata": {},
     "output_type": "execute_result"
    }
   ],
   "source": [
    "cm = confusion_matrix(respostas_reais, previsoes_final)\n",
    "cm"
   ],
   "metadata": {
    "collapsed": false
   }
  }
 ],
 "metadata": {
  "kernelspec": {
   "display_name": "Python 3",
   "language": "python",
   "name": "python3"
  },
  "language_info": {
   "codemirror_mode": {
    "name": "ipython",
    "version": 2
   },
   "file_extension": ".py",
   "mimetype": "text/x-python",
   "name": "python",
   "nbconvert_exporter": "python",
   "pygments_lexer": "ipython2",
   "version": "2.7.6"
  }
 },
 "nbformat": 4,
 "nbformat_minor": 0
}
